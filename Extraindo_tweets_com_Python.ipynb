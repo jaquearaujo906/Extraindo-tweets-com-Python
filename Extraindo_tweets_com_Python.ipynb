{
  "nbformat": 4,
  "nbformat_minor": 0,
  "metadata": {
    "colab": {
      "name": "Extraindo tweets com Python.ipynb",
      "provenance": [],
      "collapsed_sections": [],
      "authorship_tag": "ABX9TyP3a7y/iVOewVpoyfutXooe",
      "include_colab_link": true
    },
    "kernelspec": {
      "name": "python3",
      "display_name": "Python 3"
    },
    "language_info": {
      "name": "python"
    }
  },
  "cells": [
    {
      "cell_type": "markdown",
      "metadata": {
        "id": "view-in-github",
        "colab_type": "text"
      },
      "source": [
        "<a href=\"https://colab.research.google.com/github/jaquearaujo906/Extraindo-tweets-com-Python/blob/main/Extraindo_tweets_com_Python.ipynb\" target=\"_parent\"><img src=\"https://colab.research.google.com/assets/colab-badge.svg\" alt=\"Open In Colab\"/></a>"
      ]
    },
    {
      "cell_type": "code",
      "metadata": {
        "id": "QOXQRPZ8vf4t"
      },
      "source": [
        ""
      ],
      "execution_count": null,
      "outputs": []
    },
    {
      "cell_type": "code",
      "metadata": {
        "id": "7Gj_5VF3ebeH"
      },
      "source": [
        "import tweepy as tw\n",
        "import pandas as pd"
      ],
      "execution_count": 17,
      "outputs": []
    },
    {
      "cell_type": "markdown",
      "metadata": {
        "id": "ZV0PymxzvdYu"
      },
      "source": [
        "Chaves de acesso"
      ]
    },
    {
      "cell_type": "code",
      "metadata": {
        "id": "qHXaDL1EfQD1"
      },
      "source": [
        "access_token = \"1440437386928803842-7diKrXF2vSJ4m9aUKIlgKWo9MwZ4Yv\"\n",
        "access_token_secret = \"O6fP4aCxpJY4vxinj1crEijWT6YD5LzN5mmVueSvEUNtj\"\n",
        "consumer_key = \"2AOt6nZqZrJz08WtBM8uzpgcL\" \n",
        "consumer_secret = \"WGclN8z9wVvPa1PfH48C6o7B3RzxhUQGPxduQf5oYfUIQBfYLf\""
      ],
      "execution_count": 25,
      "outputs": []
    },
    {
      "cell_type": "code",
      "metadata": {
        "id": "qrxeEhUBlgFe"
      },
      "source": [
        "import tweepy\n",
        "auth = tweepy.OAuthHandler(CONSUMER_KEY, CONSUMER_SECRET)\n",
        "auth.set_access_token(ACCESS_TOKEN, ACCESS_TOKEN_SECRET)\n",
        "\n",
        "api = tw.API(auth)\n",
        "public_tweets = api.home_timeline()"
      ],
      "execution_count": 58,
      "outputs": []
    },
    {
      "cell_type": "markdown",
      "metadata": {
        "id": "9fdJvnySvQiH"
      },
      "source": [
        "Lendo os principais tweets que estão aparecendo"
      ]
    },
    {
      "cell_type": "code",
      "metadata": {
        "colab": {
          "base_uri": "https://localhost:8080/"
        },
        "id": "VmADfD_un5Ip",
        "outputId": "1b3586d1-9e3e-472c-8097-b251924cfe4c"
      },
      "source": [
        "for tweet in public_tweets:\n",
        "    print(tweet.text)"
      ],
      "execution_count": 59,
      "outputs": [
        {
          "output_type": "stream",
          "name": "stdout",
          "text": [
            "Flamengo relaciona David Luiz pela primeira vez, e zagueiro pode fazer sua estreia contra o Barcelona-EQU na Libert… https://t.co/Vwm8OzlSrm\n",
            "🌎 #Landsat 9 will continue the nearly 50-year legacy of Landsat satellites observing our home planet — monitoring i… https://t.co/IhSZ3dYdBQ\n",
            "PAAAAARA TUUUUUDO! Teremos Diego Costa x Felipe Melo em plena semifinal de Libertadores. RAÇA NÃO VAI FALTAR! \n",
            "\n",
            "O q… https://t.co/S1ltPgGJ90\n",
            "Top 10 Affordable Countries to Study Data Science https://t.co/7bOj5CRhkh  #DataScience\n",
            "Daniel Craig opina sobre uma mulher como James Bond,  Tom Hardy fala sobre spoiler de Venom: Tempo de Carnificia e… https://t.co/Y9Arl3yJIz\n",
            "Foto: Alexandre Vidal/Flamengo\n",
            "🎧 Podcast Correspondentes Premier #199: Clima de Festa. \n",
            "\n",
            "O cenário não poderia ser melhor: direto de um pub londri… https://t.co/4FVjZ6GFxV\n",
            "Woody Harrelson diz que adoraria fazer um terceiro filme de Zumbilândia\n",
            "https://t.co/q5nl2FmB4E\n",
            "Complete Machine Learning &amp; Data Science with Python ML A-Z https://t.co/uOkbWIx6PO  #machinelearning #datascience #bigdata #ad\n",
            "New Report Assesses Progress And Risks Of Artificial Intelligence https://t.co/dGyqhYUgBw  #ArtificialIntelligence\n",
            "DAVID LUIZ VAI PRO JOGO! Será que já entra como titular? A informação é de @pedrotorre, jornalista da ESPN e FOX Sp… https://t.co/TaUYh4hCnT\n",
            "Basic Molecular Representation for Machine Learning https://t.co/v6cFol4ikm  #MachineLearning\n",
            "Microsoft Azure Fundamentals AZ-900 Exam Prep https://t.co/xDAtFtJW4I  #machinelearning #datascience #bigdata #ad\n",
            "John Cho se recusou a usar peruca em Cowboy Bebop: \"muito perceptível\"\n",
            "https://t.co/zuk6K3ApnK\n",
            "PhD position in Informatics - Computational Biology and Machine Learning https://t.co/gvzRzAIevx  #MachineLearning\n",
            "O cosmo tá elevadíssimo! Live-action de Cavaleiros do Zodíaco da Sony contará com Mckenyu, Madison Iseman, Sean Bea… https://t.co/Uk8vvmMu2e\n",
            "O curioso pedido de Beckham para o treinador de seu filho nos Estados Unidos\n",
            "\n",
            "https://t.co/WhNfOTxZl3\n",
            "Exploratory Data Analysis with MATLAB https://t.co/4KHfD1MJiL  #machinelearning #datascience #bigdata #ad\n",
            "Ex-Flamengo, Rodrigo Muniz é titular, erra pênalti decisivo, e Fulham é eliminado da Copa da Liga Inglesa\n",
            "\n",
            "https://t.co/dsZnBJP7PX\n",
            "⚠ AMANHÃ! Tem semifinal da Conmebol Libertadores! Os times entram em campo a partir das 21h30! ⚽ NÃO PERCA!\n",
            "\n",
            "Você a… https://t.co/4RZWdGZncc\n"
          ]
        }
      ]
    },
    {
      "cell_type": "markdown",
      "metadata": {
        "id": "3GjJAeLevn4u"
      },
      "source": [
        "Acessando json\n"
      ]
    },
    {
      "cell_type": "code",
      "metadata": {
        "colab": {
          "base_uri": "https://localhost:8080/"
        },
        "id": "PSSjH5S1vAaH",
        "outputId": "c91b1f0f-3e96-4f4e-dd87-d44907161ec8"
      },
      "source": [
        "tweet._json"
      ],
      "execution_count": 60,
      "outputs": [
        {
          "output_type": "execute_result",
          "data": {
            "text/plain": [
              "{'contributors': None,\n",
              " 'coordinates': None,\n",
              " 'created_at': 'Tue Sep 21 22:00:12 +0000 2021',\n",
              " 'entities': {'hashtags': [],\n",
              "  'symbols': [],\n",
              "  'urls': [{'display_url': 'twitter.com/i/web/status/1…',\n",
              "    'expanded_url': 'https://twitter.com/i/web/status/1440435720984748037',\n",
              "    'indices': [117, 140],\n",
              "    'url': 'https://t.co/4RZWdGZncc'}],\n",
              "  'user_mentions': []},\n",
              " 'favorite_count': 42,\n",
              " 'favorited': False,\n",
              " 'geo': None,\n",
              " 'id': 1440435720984748037,\n",
              " 'id_str': '1440435720984748037',\n",
              " 'in_reply_to_screen_name': None,\n",
              " 'in_reply_to_status_id': None,\n",
              " 'in_reply_to_status_id_str': None,\n",
              " 'in_reply_to_user_id': None,\n",
              " 'in_reply_to_user_id_str': None,\n",
              " 'is_quote_status': False,\n",
              " 'lang': 'pt',\n",
              " 'place': None,\n",
              " 'possibly_sensitive': False,\n",
              " 'possibly_sensitive_appealable': False,\n",
              " 'retweet_count': 5,\n",
              " 'retweeted': False,\n",
              " 'source': '<a href=\"https://buffer.com\" rel=\"nofollow\">Buffer</a>',\n",
              " 'text': '⚠ AMANHÃ! Tem semifinal da Conmebol Libertadores! Os times entram em campo a partir das 21h30! ⚽ NÃO PERCA!\\n\\nVocê a… https://t.co/4RZWdGZncc',\n",
              " 'truncated': True,\n",
              " 'user': {'contributors_enabled': False,\n",
              "  'created_at': 'Thu Nov 24 19:18:54 +0000 2011',\n",
              "  'default_profile': False,\n",
              "  'default_profile_image': False,\n",
              "  'description': 'Juntos na torcida! 🤝 @ESPNBrasil\\n\\nPerfil oficial do FOX Sports Brasil no Twitter. As principais notícias do mundo esportivo.',\n",
              "  'entities': {'description': {'urls': []},\n",
              "   'url': {'urls': [{'display_url': 'espn.com.br',\n",
              "      'expanded_url': 'https://www.espn.com.br/',\n",
              "      'indices': [0, 23],\n",
              "      'url': 'https://t.co/5MBwba6LQ6'}]}},\n",
              "  'favourites_count': 3915,\n",
              "  'follow_request_sent': False,\n",
              "  'followers_count': 3018479,\n",
              "  'following': True,\n",
              "  'friends_count': 39,\n",
              "  'geo_enabled': True,\n",
              "  'has_extended_profile': False,\n",
              "  'id': 420535612,\n",
              "  'id_str': '420535612',\n",
              "  'is_translation_enabled': False,\n",
              "  'is_translator': False,\n",
              "  'lang': None,\n",
              "  'listed_count': 2465,\n",
              "  'location': 'Brasil',\n",
              "  'name': 'FOX Sports Brasil (de 🏠)',\n",
              "  'notifications': False,\n",
              "  'profile_background_color': '192844',\n",
              "  'profile_background_image_url': 'http://abs.twimg.com/images/themes/theme1/bg.png',\n",
              "  'profile_background_image_url_https': 'https://abs.twimg.com/images/themes/theme1/bg.png',\n",
              "  'profile_background_tile': False,\n",
              "  'profile_banner_url': 'https://pbs.twimg.com/profile_banners/420535612/1630676598',\n",
              "  'profile_image_url': 'http://pbs.twimg.com/profile_images/1326225121338658822/M8roUbhh_normal.jpg',\n",
              "  'profile_image_url_https': 'https://pbs.twimg.com/profile_images/1326225121338658822/M8roUbhh_normal.jpg',\n",
              "  'profile_link_color': '192844',\n",
              "  'profile_sidebar_border_color': 'FFFFFF',\n",
              "  'profile_sidebar_fill_color': 'F2F2F2',\n",
              "  'profile_text_color': '333333',\n",
              "  'profile_use_background_image': False,\n",
              "  'protected': False,\n",
              "  'screen_name': 'FoxSportsBrasil',\n",
              "  'statuses_count': 358111,\n",
              "  'time_zone': None,\n",
              "  'translator_type': 'none',\n",
              "  'url': 'https://t.co/5MBwba6LQ6',\n",
              "  'utc_offset': None,\n",
              "  'verified': True,\n",
              "  'withheld_in_countries': []}}"
            ]
          },
          "metadata": {},
          "execution_count": 60
        }
      ]
    },
    {
      "cell_type": "code",
      "metadata": {
        "colab": {
          "base_uri": "https://localhost:8080/"
        },
        "id": "X16qZTaRv-zv",
        "outputId": "09a8502d-b174-48da-c367-486090fc9f7e"
      },
      "source": [
        "tweet._json.keys()"
      ],
      "execution_count": 66,
      "outputs": [
        {
          "output_type": "execute_result",
          "data": {
            "text/plain": [
              "dict_keys(['created_at', 'id', 'id_str', 'text', 'truncated', 'entities', 'source', 'in_reply_to_status_id', 'in_reply_to_status_id_str', 'in_reply_to_user_id', 'in_reply_to_user_id_str', 'in_reply_to_screen_name', 'user', 'geo', 'coordinates', 'place', 'contributors', 'is_quote_status', 'retweet_count', 'favorite_count', 'favorited', 'retweeted', 'possibly_sensitive', 'possibly_sensitive_appealable', 'lang'])"
            ]
          },
          "metadata": {},
          "execution_count": 66
        }
      ]
    },
    {
      "cell_type": "markdown",
      "metadata": {
        "id": "Lcl97__M1tqw"
      },
      "source": [
        "Query de busca"
      ]
    },
    {
      "cell_type": "code",
      "metadata": {
        "id": "r37FpwXFwwx3"
      },
      "source": [
        "query_search= \"#MACHINELEARNING\" + \" -filter:retweets\""
      ],
      "execution_count": 70,
      "outputs": []
    },
    {
      "cell_type": "markdown",
      "metadata": {
        "id": "N9BaoREDzQMu"
      },
      "source": [
        "Cursor opera entre os diversos items do twitter"
      ]
    },
    {
      "cell_type": "code",
      "metadata": {
        "id": "qyRRep4ow4mH"
      },
      "source": [
        "cursor_tweets = tw.Cursor(api.search,\n",
        "                          q=query_search).items(10)"
      ],
      "execution_count": 72,
      "outputs": []
    },
    {
      "cell_type": "code",
      "metadata": {
        "colab": {
          "base_uri": "https://localhost:8080/"
        },
        "id": "qmlqIKC7xDeN",
        "outputId": "a8e9910a-9c20-45d7-84be-996f50c7763f"
      },
      "source": [
        "for tweet in cursor_tweets:\n",
        "  print(tweet.created_at)\n",
        "  print(tweet.text)"
      ],
      "execution_count": 73,
      "outputs": [
        {
          "output_type": "stream",
          "name": "stdout",
          "text": [
            "2021-09-21 23:51:04\n",
            "Apple's reportedly working on a horrific mental illness detector https://t.co/EYAZ8dgp8c #MachineLearning… https://t.co/wmFA9nQLn6\n",
            "2021-09-21 23:50:11\n",
            "https://t.co/uoBGMIfFsW \n",
            "#coding #IncarnationDay_SantRampalJi #Cybersecurity #blockchain #OpenSource #BigData… https://t.co/5kreMrzhVK\n",
            "2021-09-21 23:49:33\n",
            "Model and data lineage in machine learning experimentation https://t.co/RuN3nKzsiC #AI #MachineLearning… https://t.co/i45ZvLBgh0\n",
            "2021-09-21 23:48:15\n",
            "Prospective grad students- We are accepting students next year &amp; our Dept (@UConnPSYC) just REMOVED the #GRE requir… https://t.co/UFmfXezMxz\n",
            "2021-09-21 23:45:42\n",
            "How to Find Weaknesses in your Machine Learning Models #DecisionTree #LinearRegression #MachineLearning https://t.co/xgYrGzrkHn\n",
            "2021-09-21 23:42:45\n",
            "#DataScience Foundations of R for Data Analysis Certificate | UDaily - UDaily https://t.co/l02pM7olvZ &gt;&gt; #data… https://t.co/iqkWKpXtzf\n",
            "2021-09-21 23:41:05\n",
            "https://t.co/7JZe85t7u2 \n",
            "#coding #IncarnationDay_SantRampalJi #Cybersecurity #blockchain #OpenSource #BigData… https://t.co/1adxYDoHDG\n",
            "2021-09-21 23:40:56\n",
            "https://t.co/0SRlMUwY5Q \n",
            "#coding #IncarnationDay_SantRampalJi #Cybersecurity #blockchain #OpenSource #BigData… https://t.co/HST6M7Q6Md\n",
            "2021-09-21 23:40:47\n",
            "#womenintech #django #nocode #javascript #github #nodejs #cybersecurity #devops #100DaysOfCode #datascience #ai… https://t.co/kAX5Mwq63x\n",
            "2021-09-21 23:40:21\n",
            "Hit our dm now for,  #100DaysOfCode #programming #DataScience #engineers #WomenInSTEM \n",
            " #ArtificialIntelligence, as… https://t.co/clWZd7fclH\n"
          ]
        }
      ]
    },
    {
      "cell_type": "markdown",
      "metadata": {
        "id": "q76kHUEC1_sG"
      },
      "source": [
        "**Armazerando os tweets que foram encontrado**"
      ]
    },
    {
      "cell_type": "code",
      "metadata": {
        "id": "CXW_6blEzLqw"
      },
      "source": [
        "twkeys = tweet._json.keys()"
      ],
      "execution_count": 74,
      "outputs": []
    },
    {
      "cell_type": "code",
      "metadata": {
        "colab": {
          "base_uri": "https://localhost:8080/"
        },
        "id": "7fjhWm7FzN4A",
        "outputId": "c0a096a3-e0cf-46b6-9e5d-257b97c68c3f"
      },
      "source": [
        "twkeys"
      ],
      "execution_count": 75,
      "outputs": [
        {
          "output_type": "execute_result",
          "data": {
            "text/plain": [
              "dict_keys(['created_at', 'id', 'id_str', 'text', 'truncated', 'entities', 'metadata', 'source', 'in_reply_to_status_id', 'in_reply_to_status_id_str', 'in_reply_to_user_id', 'in_reply_to_user_id_str', 'in_reply_to_screen_name', 'user', 'geo', 'coordinates', 'place', 'contributors', 'is_quote_status', 'retweet_count', 'favorite_count', 'favorited', 'retweeted', 'lang'])"
            ]
          },
          "metadata": {},
          "execution_count": 75
        }
      ]
    },
    {
      "cell_type": "markdown",
      "metadata": {
        "id": "QkNdAvQl5VZv"
      },
      "source": [
        "**Criando um dicionário vazio para armazenar todos os dados**"
      ]
    },
    {
      "cell_type": "code",
      "metadata": {
        "id": "s75pO1S-2XQZ"
      },
      "source": [
        "tweets_dict = {}\n",
        "tweets_dict  = tweets_dict.fromkeys(twkeys)"
      ],
      "execution_count": 77,
      "outputs": []
    },
    {
      "cell_type": "code",
      "metadata": {
        "colab": {
          "base_uri": "https://localhost:8080/"
        },
        "id": "8gWz5okC2ypG",
        "outputId": "993a81c4-bfd6-42ac-c872-7cfad8c41aaa"
      },
      "source": [
        "tweets_dict"
      ],
      "execution_count": 78,
      "outputs": [
        {
          "output_type": "execute_result",
          "data": {
            "text/plain": [
              "{'contributors': None,\n",
              " 'coordinates': None,\n",
              " 'created_at': None,\n",
              " 'entities': None,\n",
              " 'favorite_count': None,\n",
              " 'favorited': None,\n",
              " 'geo': None,\n",
              " 'id': None,\n",
              " 'id_str': None,\n",
              " 'in_reply_to_screen_name': None,\n",
              " 'in_reply_to_status_id': None,\n",
              " 'in_reply_to_status_id_str': None,\n",
              " 'in_reply_to_user_id': None,\n",
              " 'in_reply_to_user_id_str': None,\n",
              " 'is_quote_status': None,\n",
              " 'lang': None,\n",
              " 'metadata': None,\n",
              " 'place': None,\n",
              " 'retweet_count': None,\n",
              " 'retweeted': None,\n",
              " 'source': None,\n",
              " 'text': None,\n",
              " 'truncated': None,\n",
              " 'user': None}"
            ]
          },
          "metadata": {},
          "execution_count": 78
        }
      ]
    },
    {
      "cell_type": "code",
      "metadata": {
        "id": "jyCT2V522m7I"
      },
      "source": [
        "query_search= \"#MACHINELEARNING\"  + \" -filter:retweets\" \n",
        "cursor_tweets = tw.Cursor(api.search,\n",
        "                          since=\"2019-11-03\",\n",
        "                            until=\"2019-11-11\",\n",
        "            q=query_search).items(100)"
      ],
      "execution_count": 94,
      "outputs": []
    },
    {
      "cell_type": "markdown",
      "metadata": {
        "id": "Oh_uFDPs6Jie"
      },
      "source": [
        "***Tratamento de erros***"
      ]
    },
    {
      "cell_type": "code",
      "metadata": {
        "id": "cO1-dc1l21Em"
      },
      "source": [
        "for tweet in cursor_tweets:\n",
        "    for key in tweets_dict.keys():\n",
        "        try:\n",
        "            twvalue = tweet._json[key]\n",
        "            tweets_dict[key].append(twvalue)\n",
        "        except KeyError:\n",
        "            twvalue = \"\"\n",
        "            if(tweets_dict[key] is None):\n",
        "                tweets_dict[key] = [twvalue]\n",
        "            else:\n",
        "                tweets_dict[key].append(twvalue)\n",
        "        except:\n",
        "            tweets_dict[key] = [twvalue]\n",
        "        print(\"tweets_dict[key]: {} - tweet[key]: {}\".format(tweets_dict[key],  twvalue))"
      ],
      "execution_count": 95,
      "outputs": []
    },
    {
      "cell_type": "markdown",
      "metadata": {
        "id": "TXbAOsrn5AxY"
      },
      "source": [
        "**Criando um Data Frame**"
      ]
    },
    {
      "cell_type": "code",
      "metadata": {
        "id": "q7uyXomY41BP"
      },
      "source": [
        "dfTweets = pd.DataFrame.from_dict(tweets_dict)"
      ],
      "execution_count": 96,
      "outputs": []
    },
    {
      "cell_type": "code",
      "metadata": {
        "colab": {
          "base_uri": "https://localhost:8080/",
          "height": 428
        },
        "id": "0SVObhxE4_7n",
        "outputId": "030c246c-79f2-43c3-98f4-c974ed040ea4"
      },
      "source": [
        "dfTweets.head()"
      ],
      "execution_count": 97,
      "outputs": [
        {
          "output_type": "execute_result",
          "data": {
            "text/html": [
              "<div>\n",
              "<style scoped>\n",
              "    .dataframe tbody tr th:only-of-type {\n",
              "        vertical-align: middle;\n",
              "    }\n",
              "\n",
              "    .dataframe tbody tr th {\n",
              "        vertical-align: top;\n",
              "    }\n",
              "\n",
              "    .dataframe thead th {\n",
              "        text-align: right;\n",
              "    }\n",
              "</style>\n",
              "<table border=\"1\" class=\"dataframe\">\n",
              "  <thead>\n",
              "    <tr style=\"text-align: right;\">\n",
              "      <th></th>\n",
              "      <th>created_at</th>\n",
              "      <th>id</th>\n",
              "      <th>id_str</th>\n",
              "      <th>text</th>\n",
              "      <th>truncated</th>\n",
              "      <th>entities</th>\n",
              "      <th>metadata</th>\n",
              "      <th>source</th>\n",
              "      <th>in_reply_to_status_id</th>\n",
              "      <th>in_reply_to_status_id_str</th>\n",
              "      <th>in_reply_to_user_id</th>\n",
              "      <th>in_reply_to_user_id_str</th>\n",
              "      <th>in_reply_to_screen_name</th>\n",
              "      <th>user</th>\n",
              "      <th>geo</th>\n",
              "      <th>coordinates</th>\n",
              "      <th>place</th>\n",
              "      <th>contributors</th>\n",
              "      <th>is_quote_status</th>\n",
              "      <th>retweet_count</th>\n",
              "      <th>favorite_count</th>\n",
              "      <th>favorited</th>\n",
              "      <th>retweeted</th>\n",
              "      <th>lang</th>\n",
              "    </tr>\n",
              "  </thead>\n",
              "  <tbody>\n",
              "    <tr>\n",
              "      <th>0</th>\n",
              "      <td>Wed Sep 22 00:14:40 +0000 2021</td>\n",
              "      <td>1440469561636098055</td>\n",
              "      <td>1440469561636098055</td>\n",
              "      <td>How To Learn #MachineLearning: Complete Guide ...</td>\n",
              "      <td>True</td>\n",
              "      <td>{'hashtags': [{'text': 'MachineLearning', 'ind...</td>\n",
              "      <td>{'iso_language_code': 'en', 'result_type': 're...</td>\n",
              "      <td>&lt;a href=\"https://mobile.twitter.com\" rel=\"nofo...</td>\n",
              "      <td>None</td>\n",
              "      <td>None</td>\n",
              "      <td>None</td>\n",
              "      <td>None</td>\n",
              "      <td>None</td>\n",
              "      <td>{'id': 737654066323558401, 'id_str': '73765406...</td>\n",
              "      <td>None</td>\n",
              "      <td>None</td>\n",
              "      <td>None</td>\n",
              "      <td>None</td>\n",
              "      <td>False</td>\n",
              "      <td>1</td>\n",
              "      <td>0</td>\n",
              "      <td>False</td>\n",
              "      <td>False</td>\n",
              "      <td>en</td>\n",
              "    </tr>\n",
              "    <tr>\n",
              "      <th>1</th>\n",
              "      <td>Wed Sep 22 00:14:26 +0000 2021</td>\n",
              "      <td>1440469503104602112</td>\n",
              "      <td>1440469503104602112</td>\n",
              "      <td>Very good collection of material to learn #Mac...</td>\n",
              "      <td>False</td>\n",
              "      <td>{'hashtags': [{'text': 'MachineLearning', 'ind...</td>\n",
              "      <td>{'iso_language_code': 'en', 'result_type': 're...</td>\n",
              "      <td>&lt;a href=\"http://twitter.com/download/android\" ...</td>\n",
              "      <td>None</td>\n",
              "      <td>None</td>\n",
              "      <td>None</td>\n",
              "      <td>None</td>\n",
              "      <td>None</td>\n",
              "      <td>{'id': 36337886, 'id_str': '36337886', 'name':...</td>\n",
              "      <td>None</td>\n",
              "      <td>None</td>\n",
              "      <td>None</td>\n",
              "      <td>None</td>\n",
              "      <td>True</td>\n",
              "      <td>2</td>\n",
              "      <td>0</td>\n",
              "      <td>False</td>\n",
              "      <td>False</td>\n",
              "      <td>en</td>\n",
              "    </tr>\n",
              "    <tr>\n",
              "      <th>2</th>\n",
              "      <td>Wed Sep 22 00:12:36 +0000 2021</td>\n",
              "      <td>1440469039378141184</td>\n",
              "      <td>1440469039378141184</td>\n",
              "      <td>Wikipedia-Based Image Text (WIT) Dataset by @G...</td>\n",
              "      <td>True</td>\n",
              "      <td>{'hashtags': [], 'symbols': [], 'user_mentions...</td>\n",
              "      <td>{'iso_language_code': 'en', 'result_type': 're...</td>\n",
              "      <td>&lt;a href=\"https://mobile.twitter.com\" rel=\"nofo...</td>\n",
              "      <td>None</td>\n",
              "      <td>None</td>\n",
              "      <td>None</td>\n",
              "      <td>None</td>\n",
              "      <td>None</td>\n",
              "      <td>{'id': 1425512708, 'id_str': '1425512708', 'na...</td>\n",
              "      <td>None</td>\n",
              "      <td>None</td>\n",
              "      <td>None</td>\n",
              "      <td>None</td>\n",
              "      <td>True</td>\n",
              "      <td>2</td>\n",
              "      <td>2</td>\n",
              "      <td>False</td>\n",
              "      <td>False</td>\n",
              "      <td>en</td>\n",
              "    </tr>\n",
              "    <tr>\n",
              "      <th>3</th>\n",
              "      <td>Wed Sep 22 00:11:26 +0000 2021</td>\n",
              "      <td>1440468747651727367</td>\n",
              "      <td>1440468747651727367</td>\n",
              "      <td>Deep Learning: MIT Press Essential Knowledge S...</td>\n",
              "      <td>True</td>\n",
              "      <td>{'hashtags': [{'text': 'MachineLearning', 'ind...</td>\n",
              "      <td>{'iso_language_code': 'en', 'result_type': 're...</td>\n",
              "      <td>&lt;a href=\"https://mobile.twitter.com\" rel=\"nofo...</td>\n",
              "      <td>None</td>\n",
              "      <td>None</td>\n",
              "      <td>None</td>\n",
              "      <td>None</td>\n",
              "      <td>None</td>\n",
              "      <td>{'id': 3068484222, 'id_str': '3068484222', 'na...</td>\n",
              "      <td>None</td>\n",
              "      <td>None</td>\n",
              "      <td>None</td>\n",
              "      <td>None</td>\n",
              "      <td>False</td>\n",
              "      <td>9</td>\n",
              "      <td>0</td>\n",
              "      <td>False</td>\n",
              "      <td>False</td>\n",
              "      <td>en</td>\n",
              "    </tr>\n",
              "    <tr>\n",
              "      <th>4</th>\n",
              "      <td>Wed Sep 22 00:10:45 +0000 2021</td>\n",
              "      <td>1440468573575540740</td>\n",
              "      <td>1440468573575540740</td>\n",
              "      <td>Diving into watercolor bonsai. \\n#vqganclip #g...</td>\n",
              "      <td>False</td>\n",
              "      <td>{'hashtags': [{'text': 'vqganclip', 'indices':...</td>\n",
              "      <td>{'iso_language_code': 'en', 'result_type': 're...</td>\n",
              "      <td>&lt;a href=\"http://twitter.com/download/iphone\" r...</td>\n",
              "      <td>None</td>\n",
              "      <td>None</td>\n",
              "      <td>None</td>\n",
              "      <td>None</td>\n",
              "      <td>None</td>\n",
              "      <td>{'id': 1370234973995868161, 'id_str': '1370234...</td>\n",
              "      <td>None</td>\n",
              "      <td>None</td>\n",
              "      <td>None</td>\n",
              "      <td>None</td>\n",
              "      <td>False</td>\n",
              "      <td>0</td>\n",
              "      <td>0</td>\n",
              "      <td>False</td>\n",
              "      <td>False</td>\n",
              "      <td>en</td>\n",
              "    </tr>\n",
              "  </tbody>\n",
              "</table>\n",
              "</div>"
            ],
            "text/plain": [
              "                       created_at                   id  ... retweeted lang\n",
              "0  Wed Sep 22 00:14:40 +0000 2021  1440469561636098055  ...     False   en\n",
              "1  Wed Sep 22 00:14:26 +0000 2021  1440469503104602112  ...     False   en\n",
              "2  Wed Sep 22 00:12:36 +0000 2021  1440469039378141184  ...     False   en\n",
              "3  Wed Sep 22 00:11:26 +0000 2021  1440468747651727367  ...     False   en\n",
              "4  Wed Sep 22 00:10:45 +0000 2021  1440468573575540740  ...     False   en\n",
              "\n",
              "[5 rows x 24 columns]"
            ]
          },
          "metadata": {},
          "execution_count": 97
        }
      ]
    },
    {
      "cell_type": "code",
      "metadata": {
        "colab": {
          "base_uri": "https://localhost:8080/"
        },
        "id": "UzUwE7xq6gA_",
        "outputId": "a149f731-6ce2-463b-8874-5e3934ab2e49"
      },
      "source": [
        "dfTweets.text"
      ],
      "execution_count": 98,
      "outputs": [
        {
          "output_type": "execute_result",
          "data": {
            "text/plain": [
              "0    How To Learn #MachineLearning: Complete Guide ...\n",
              "1    Very good collection of material to learn #Mac...\n",
              "2    Wikipedia-Based Image Text (WIT) Dataset by @G...\n",
              "3    Deep Learning: MIT Press Essential Knowledge S...\n",
              "4    Diving into watercolor bonsai. \\n#vqganclip #g...\n",
              "Name: text, dtype: object"
            ]
          },
          "metadata": {},
          "execution_count": 98
        }
      ]
    }
  ]
}